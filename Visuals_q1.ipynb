{
 "cells": [
  {
   "cell_type": "code",
   "execution_count": 30,
   "id": "cd1c5c00",
   "metadata": {},
   "outputs": [],
   "source": [
    "import pandas as pd\n",
    "import numpy as np\n",
    "import matplotlib.pyplot as plt\n",
    "import matplotlib as mp"
   ]
  },
  {
   "cell_type": "code",
   "execution_count": 5,
   "id": "8be74e81",
   "metadata": {},
   "outputs": [],
   "source": [
    "df = pd.read_csv('q1.csv')"
   ]
  },
  {
   "cell_type": "code",
   "execution_count": 6,
   "id": "49402203",
   "metadata": {},
   "outputs": [
    {
     "data": {
      "text/html": [
       "<div>\n",
       "<style scoped>\n",
       "    .dataframe tbody tr th:only-of-type {\n",
       "        vertical-align: middle;\n",
       "    }\n",
       "\n",
       "    .dataframe tbody tr th {\n",
       "        vertical-align: top;\n",
       "    }\n",
       "\n",
       "    .dataframe thead th {\n",
       "        text-align: right;\n",
       "    }\n",
       "</style>\n",
       "<table border=\"1\" class=\"dataframe\">\n",
       "  <thead>\n",
       "    <tr style=\"text-align: right;\">\n",
       "      <th></th>\n",
       "      <th>plist</th>\n",
       "      <th>Listeners</th>\n",
       "      <th>gen</th>\n",
       "      <th># Listeners to Dominant Genre in Playlist</th>\n",
       "    </tr>\n",
       "  </thead>\n",
       "  <tbody>\n",
       "    <tr>\n",
       "      <th>0</th>\n",
       "      <td>Music</td>\n",
       "      <td>59</td>\n",
       "      <td>Rock</td>\n",
       "      <td>36</td>\n",
       "    </tr>\n",
       "    <tr>\n",
       "      <th>1</th>\n",
       "      <td>90’s Music</td>\n",
       "      <td>39</td>\n",
       "      <td>Rock</td>\n",
       "      <td>19</td>\n",
       "    </tr>\n",
       "    <tr>\n",
       "      <th>2</th>\n",
       "      <td>Brazilian Music</td>\n",
       "      <td>6</td>\n",
       "      <td>Latin</td>\n",
       "      <td>6</td>\n",
       "    </tr>\n",
       "  </tbody>\n",
       "</table>\n",
       "</div>"
      ],
      "text/plain": [
       "             plist  Listeners    gen  \\\n",
       "0            Music         59   Rock   \n",
       "1       90’s Music         39   Rock   \n",
       "2  Brazilian Music          6  Latin   \n",
       "\n",
       "   # Listeners to Dominant Genre in Playlist  \n",
       "0                                         36  \n",
       "1                                         19  \n",
       "2                                          6  "
      ]
     },
     "execution_count": 6,
     "metadata": {},
     "output_type": "execute_result"
    }
   ],
   "source": [
    "df"
   ]
  },
  {
   "cell_type": "code",
   "execution_count": 152,
   "id": "f5ae9752",
   "metadata": {},
   "outputs": [
    {
     "data": {
      "image/png": "[encoded data removed]",
      "text/plain": [
       "<Figure size 720x576 with 1 Axes>"
      ]
     },
     "metadata": {
      "needs_background": "light"
     },
     "output_type": "display_data"
    }
   ],
   "source": [
    "fig, ax = plt.subplots()\n",
    "plt.bar(df['plist'],df['Listeners'], label='Listeners of Playlist')\n",
    "barg = plt.bar(df['plist'],df.iloc[:,3], label='Listeners of top Genre')\n",
    "plt.title('Listener # To Top 3 Playlists And Thier Respective Most Popular Genre', fontsize=15)\n",
    "plt.xlabel('Playlist Name', fontsize=15)\n",
    "plt.ylabel('Listener Count', fontsize=15)\n",
    "fig.set_size_inches(10,8)\n",
    "ax.legend()\n",
    "lg = df.iloc[:,2]\n",
    "for idx, rect in enumerate(barg):\n",
    "    height = rect.get_height()\n",
    "    width = rect.get_width()\n",
    "    ax.text(rect.get_x()+width/2, height/2.1,lg[idx], ha='center', fontsize = 2 * min(height,15), va='center')"
   ]
  },
  {
   "cell_type": "code",
   "execution_count": 48,
   "id": "5c57da69",
   "metadata": {},
   "outputs": [
    {
     "data": {
      "text/html": [
       "<div>\n",
       "<style scoped>\n",
       "    .dataframe tbody tr th:only-of-type {\n",
       "        vertical-align: middle;\n",
       "    }\n",
       "\n",
       "    .dataframe tbody tr th {\n",
       "        vertical-align: top;\n",
       "    }\n",
       "\n",
       "    .dataframe thead th {\n",
       "        text-align: right;\n",
       "    }\n",
       "</style>\n",
       "<table border=\"1\" class=\"dataframe\">\n",
       "  <thead>\n",
       "    <tr style=\"text-align: right;\">\n",
       "      <th></th>\n",
       "      <th>plist</th>\n",
       "      <th>Listeners</th>\n",
       "      <th>gen</th>\n",
       "      <th># Listeners to Dominant Genre in Playlist</th>\n",
       "    </tr>\n",
       "  </thead>\n",
       "  <tbody>\n",
       "    <tr>\n",
       "      <th>0</th>\n",
       "      <td>Music</td>\n",
       "      <td>59</td>\n",
       "      <td>Rock</td>\n",
       "      <td>36</td>\n",
       "    </tr>\n",
       "    <tr>\n",
       "      <th>1</th>\n",
       "      <td>90’s Music</td>\n",
       "      <td>39</td>\n",
       "      <td>Rock</td>\n",
       "      <td>19</td>\n",
       "    </tr>\n",
       "    <tr>\n",
       "      <th>2</th>\n",
       "      <td>Brazilian Music</td>\n",
       "      <td>6</td>\n",
       "      <td>Latin</td>\n",
       "      <td>6</td>\n",
       "    </tr>\n",
       "  </tbody>\n",
       "</table>\n",
       "</div>"
      ],
      "text/plain": [
       "             plist  Listeners    gen  \\\n",
       "0            Music         59   Rock   \n",
       "1       90’s Music         39   Rock   \n",
       "2  Brazilian Music          6  Latin   \n",
       "\n",
       "   # Listeners to Dominant Genre in Playlist  \n",
       "0                                         36  \n",
       "1                                         19  \n",
       "2                                          6  "
      ]
     },
     "execution_count": 48,
     "metadata": {},
     "output_type": "execute_result"
    }
   ],
   "source": [
    "df"
   ]
  },
  {
   "cell_type": "code",
   "execution_count": 69,
   "id": "a5c5937f",
   "metadata": {},
   "outputs": [
    {
     "data": {
      "text/plain": [
       "0    36\n",
       "1    19\n",
       "2     6\n",
       "Name: # Listeners to Dominant Genre in Playlist, dtype: int64"
      ]
     },
     "execution_count": 69,
     "metadata": {},
     "output_type": "execute_result"
    }
   ],
   "source": [
    "df.iloc[:,3]"
   ]
  }
 ],
 "metadata": {
  "interpreter": {
   "hash": "910010b9128fec0bda95a110deaa2f7baca3ef79608cce04836aad2a922a4fb5"
  },
  "kernelspec": {
   "display_name": "Python 3.8.8 64-bit ('anaconda3': conda)",
   "language": "python",
   "name": "python3"
  },
  "language_info": {
   "codemirror_mode": {
    "name": "ipython",
    "version": 3
   },
   "file_extension": ".py",
   "mimetype": "text/x-python",
   "name": "python",
   "nbconvert_exporter": "python",
   "pygments_lexer": "ipython3",
   "version": "3.8.8"
  }
 },
 "nbformat": 4,
 "nbformat_minor": 5
}
