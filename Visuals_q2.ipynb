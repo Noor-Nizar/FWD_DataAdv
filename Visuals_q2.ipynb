{
 "cells": [
  {
   "cell_type": "code",
   "execution_count": 1,
   "metadata": {},
   "outputs": [],
   "source": [
    "import pandas as pd\n",
    "import numpy as np\n",
    "import matplotlib.pyplot as plt"
   ]
  },
  {
   "cell_type": "code",
   "execution_count": 40,
   "metadata": {},
   "outputs": [],
   "source": [
    "df = pd.read_csv('q2_e.csv')"
   ]
  },
  {
   "cell_type": "code",
   "execution_count": 41,
   "metadata": {},
   "outputs": [
    {
     "data": {
      "text/html": [
       "<div>\n",
       "<style scoped>\n",
       "    .dataframe tbody tr th:only-of-type {\n",
       "        vertical-align: middle;\n",
       "    }\n",
       "\n",
       "    .dataframe tbody tr th {\n",
       "        vertical-align: top;\n",
       "    }\n",
       "\n",
       "    .dataframe thead th {\n",
       "        text-align: right;\n",
       "    }\n",
       "</style>\n",
       "<table border=\"1\" class=\"dataframe\">\n",
       "  <thead>\n",
       "    <tr style=\"text-align: right;\">\n",
       "      <th></th>\n",
       "      <th>name</th>\n",
       "      <th>ATB</th>\n",
       "      <th>AAP</th>\n",
       "      <th>n_customers</th>\n",
       "    </tr>\n",
       "  </thead>\n",
       "  <tbody>\n",
       "    <tr>\n",
       "      <th>0</th>\n",
       "      <td>Rock</td>\n",
       "      <td>14.152542</td>\n",
       "      <td>14.011017</td>\n",
       "      <td>59</td>\n",
       "    </tr>\n",
       "    <tr>\n",
       "      <th>1</th>\n",
       "      <td>Latin</td>\n",
       "      <td>6.892857</td>\n",
       "      <td>6.823929</td>\n",
       "      <td>56</td>\n",
       "    </tr>\n",
       "    <tr>\n",
       "      <th>2</th>\n",
       "      <td>Alternative &amp; Punk</td>\n",
       "      <td>4.880000</td>\n",
       "      <td>4.831200</td>\n",
       "      <td>50</td>\n",
       "    </tr>\n",
       "    <tr>\n",
       "      <th>3</th>\n",
       "      <td>Metal</td>\n",
       "      <td>4.800000</td>\n",
       "      <td>4.752000</td>\n",
       "      <td>55</td>\n",
       "    </tr>\n",
       "    <tr>\n",
       "      <th>4</th>\n",
       "      <td>Alternative</td>\n",
       "      <td>3.500000</td>\n",
       "      <td>3.465000</td>\n",
       "      <td>4</td>\n",
       "    </tr>\n",
       "    <tr>\n",
       "      <th>5</th>\n",
       "      <td>Classical</td>\n",
       "      <td>2.928571</td>\n",
       "      <td>2.899286</td>\n",
       "      <td>14</td>\n",
       "    </tr>\n",
       "    <tr>\n",
       "      <th>6</th>\n",
       "      <td>Blues</td>\n",
       "      <td>2.652174</td>\n",
       "      <td>2.625652</td>\n",
       "      <td>23</td>\n",
       "    </tr>\n",
       "    <tr>\n",
       "      <th>7</th>\n",
       "      <td>Jazz</td>\n",
       "      <td>2.500000</td>\n",
       "      <td>2.475000</td>\n",
       "      <td>32</td>\n",
       "    </tr>\n",
       "    <tr>\n",
       "      <th>8</th>\n",
       "      <td>Reggae</td>\n",
       "      <td>2.500000</td>\n",
       "      <td>2.475000</td>\n",
       "      <td>12</td>\n",
       "    </tr>\n",
       "    <tr>\n",
       "      <th>9</th>\n",
       "      <td>Easy Listening</td>\n",
       "      <td>2.500000</td>\n",
       "      <td>2.475000</td>\n",
       "      <td>4</td>\n",
       "    </tr>\n",
       "    <tr>\n",
       "      <th>10</th>\n",
       "      <td>TV Shows</td>\n",
       "      <td>2.473684</td>\n",
       "      <td>4.922632</td>\n",
       "      <td>19</td>\n",
       "    </tr>\n",
       "    <tr>\n",
       "      <th>11</th>\n",
       "      <td>R&amp;B/Soul</td>\n",
       "      <td>2.411765</td>\n",
       "      <td>2.387647</td>\n",
       "      <td>17</td>\n",
       "    </tr>\n",
       "    <tr>\n",
       "      <th>12</th>\n",
       "      <td>Heavy Metal</td>\n",
       "      <td>2.400000</td>\n",
       "      <td>2.376000</td>\n",
       "      <td>5</td>\n",
       "    </tr>\n",
       "    <tr>\n",
       "      <th>13</th>\n",
       "      <td>Comedy</td>\n",
       "      <td>2.250000</td>\n",
       "      <td>4.477500</td>\n",
       "      <td>4</td>\n",
       "    </tr>\n",
       "    <tr>\n",
       "      <th>14</th>\n",
       "      <td>Soundtrack</td>\n",
       "      <td>2.222222</td>\n",
       "      <td>2.200000</td>\n",
       "      <td>9</td>\n",
       "    </tr>\n",
       "    <tr>\n",
       "      <th>15</th>\n",
       "      <td>Pop</td>\n",
       "      <td>2.153846</td>\n",
       "      <td>2.132308</td>\n",
       "      <td>13</td>\n",
       "    </tr>\n",
       "    <tr>\n",
       "      <th>16</th>\n",
       "      <td>Bossa Nova</td>\n",
       "      <td>2.142857</td>\n",
       "      <td>2.121429</td>\n",
       "      <td>7</td>\n",
       "    </tr>\n",
       "    <tr>\n",
       "      <th>17</th>\n",
       "      <td>Drama</td>\n",
       "      <td>2.071429</td>\n",
       "      <td>4.122143</td>\n",
       "      <td>14</td>\n",
       "    </tr>\n",
       "    <tr>\n",
       "      <th>18</th>\n",
       "      <td>Sci Fi &amp; Fantasy</td>\n",
       "      <td>2.000000</td>\n",
       "      <td>3.980000</td>\n",
       "      <td>10</td>\n",
       "    </tr>\n",
       "    <tr>\n",
       "      <th>19</th>\n",
       "      <td>Hip Hop/Rap</td>\n",
       "      <td>1.888889</td>\n",
       "      <td>1.870000</td>\n",
       "      <td>9</td>\n",
       "    </tr>\n",
       "    <tr>\n",
       "      <th>20</th>\n",
       "      <td>Electronica/Dance</td>\n",
       "      <td>1.714286</td>\n",
       "      <td>1.697143</td>\n",
       "      <td>7</td>\n",
       "    </tr>\n",
       "    <tr>\n",
       "      <th>21</th>\n",
       "      <td>Science Fiction</td>\n",
       "      <td>1.500000</td>\n",
       "      <td>2.985000</td>\n",
       "      <td>4</td>\n",
       "    </tr>\n",
       "    <tr>\n",
       "      <th>22</th>\n",
       "      <td>Rock And Roll</td>\n",
       "      <td>1.500000</td>\n",
       "      <td>1.485000</td>\n",
       "      <td>4</td>\n",
       "    </tr>\n",
       "    <tr>\n",
       "      <th>23</th>\n",
       "      <td>World</td>\n",
       "      <td>1.444444</td>\n",
       "      <td>1.430000</td>\n",
       "      <td>9</td>\n",
       "    </tr>\n",
       "  </tbody>\n",
       "</table>\n",
       "</div>"
      ],
      "text/plain": [
       "                  name        ATB        AAP  n_customers\n",
       "0                 Rock  14.152542  14.011017           59\n",
       "1                Latin   6.892857   6.823929           56\n",
       "2   Alternative & Punk   4.880000   4.831200           50\n",
       "3                Metal   4.800000   4.752000           55\n",
       "4          Alternative   3.500000   3.465000            4\n",
       "5            Classical   2.928571   2.899286           14\n",
       "6                Blues   2.652174   2.625652           23\n",
       "7                 Jazz   2.500000   2.475000           32\n",
       "8               Reggae   2.500000   2.475000           12\n",
       "9       Easy Listening   2.500000   2.475000            4\n",
       "10            TV Shows   2.473684   4.922632           19\n",
       "11            R&B/Soul   2.411765   2.387647           17\n",
       "12         Heavy Metal   2.400000   2.376000            5\n",
       "13              Comedy   2.250000   4.477500            4\n",
       "14          Soundtrack   2.222222   2.200000            9\n",
       "15                 Pop   2.153846   2.132308           13\n",
       "16          Bossa Nova   2.142857   2.121429            7\n",
       "17               Drama   2.071429   4.122143           14\n",
       "18    Sci Fi & Fantasy   2.000000   3.980000           10\n",
       "19         Hip Hop/Rap   1.888889   1.870000            9\n",
       "20   Electronica/Dance   1.714286   1.697143            7\n",
       "21     Science Fiction   1.500000   2.985000            4\n",
       "22       Rock And Roll   1.500000   1.485000            4\n",
       "23               World   1.444444   1.430000            9"
      ]
     },
     "execution_count": 41,
     "metadata": {},
     "output_type": "execute_result"
    }
   ],
   "source": [
    "df"
   ]
  },
  {
   "cell_type": "code",
   "execution_count": 65,
   "metadata": {},
   "outputs": [
    {
     "data": {
      "image/png": "[encoded data removed]",
      "text/plain": [
       "<Figure size 864x576 with 1 Axes>"
      ]
     },
     "metadata": {
      "needs_background": "light"
     },
     "output_type": "display_data"
    }
   ],
   "source": [
    "fig, ax = plt.subplots()\n",
    "plt.bar(np.arange(len(df['name'])), df['ATB'], 0.4,label='Average Number of Genre Tracks Bought (ATB) / Genre Listener');\n",
    "plt.bar(np.arange(len(df['name'])) + 0.4, df['AAP'], 0.4, label='Average Amount Paid (AAP) Per Listner To Genre On Genre\\'s Tracks')\n",
    "plt.xticks(rotation=90)\n",
    "plt.xlabel('Genre', fontsize=25, ha='center')\n",
    "plt.ylabel('Number of Tracks Bought / Amount Spent ($)', fontsize=15, ha='center')\n",
    "plt.xticks(np.arange(len(df['name']))+0.15, df['name'])\n",
    "plt.legend()\n",
    "plt.title('Comparing ATB & AAP For Each Genre', fontsize= 20)\n",
    "fig.set_size_inches(12,8)"
   ]
  },
  {
   "cell_type": "code",
   "execution_count": 78,
   "metadata": {},
   "outputs": [
    {
     "data": {
      "text/plain": [
       "4.538213368314051"
      ]
     },
     "execution_count": 78,
     "metadata": {},
     "output_type": "execute_result"
    }
   ],
   "source": [
    "df['AAP'][0]/df.iloc[1:,2].mean()"
   ]
  },
  {
   "cell_type": "code",
   "execution_count": 74,
   "metadata": {},
   "outputs": [
    {
     "data": {
      "text/plain": [
       "14.0110169491525"
      ]
     },
     "execution_count": 74,
     "metadata": {},
     "output_type": "execute_result"
    }
   ],
   "source": [
    "df['AAP'][0]"
   ]
  },
  {
   "cell_type": "code",
   "execution_count": 77,
   "metadata": {},
   "outputs": [
    {
     "data": {
      "text/plain": [
       "1                  Latin\n",
       "2     Alternative & Punk\n",
       "3                  Metal\n",
       "4            Alternative\n",
       "5              Classical\n",
       "6                  Blues\n",
       "7                   Jazz\n",
       "8                 Reggae\n",
       "9         Easy Listening\n",
       "10              TV Shows\n",
       "11              R&B/Soul\n",
       "12           Heavy Metal\n",
       "13                Comedy\n",
       "14            Soundtrack\n",
       "15                   Pop\n",
       "16            Bossa Nova\n",
       "17                 Drama\n",
       "18      Sci Fi & Fantasy\n",
       "19           Hip Hop/Rap\n",
       "20     Electronica/Dance\n",
       "21       Science Fiction\n",
       "22         Rock And Roll\n",
       "23                 World\n",
       "Name: name, dtype: object"
      ]
     },
     "execution_count": 77,
     "metadata": {},
     "output_type": "execute_result"
    }
   ],
   "source": [
    "df.iloc[1:,0]"
   ]
  },
  {
   "cell_type": "code",
   "execution_count": null,
   "metadata": {},
   "outputs": [],
   "source": []
  }
 ],
 "metadata": {
  "interpreter": {
   "hash": "910010b9128fec0bda95a110deaa2f7baca3ef79608cce04836aad2a922a4fb5"
  },
  "kernelspec": {
   "display_name": "Python 3.8.8 ('anaconda3')",
   "language": "python",
   "name": "python3"
  },
  "language_info": {
   "codemirror_mode": {
    "name": "ipython",
    "version": 3
   },
   "file_extension": ".py",
   "mimetype": "text/x-python",
   "name": "python",
   "nbconvert_exporter": "python",
   "pygments_lexer": "ipython3",
   "version": "3.8.8"
  },
  "orig_nbformat": 4
 },
 "nbformat": 4,
 "nbformat_minor": 2
}
